{
 "cells": [
  {
   "cell_type": "markdown",
   "metadata": {},
   "source": [
    "## 神经网络的学习\n",
    "这里所说的神经网络的\"学习\"是指**从训练数据中自动获取最优权重参数**的过程。<br>\n",
    "为了使神经网络能进行学习，将导入**损失函数**这一指标。<br>\n",
    "学习的目的就是以该损失函数为基准，找出能使它的值达到最小的权重参数。"
   ]
  },
  {
   "cell_type": "markdown",
   "metadata": {},
   "source": [
    "### 从数据中学习\n",
    "神经网络的特诊就是可以从数据中学习。所谓“从数据中学习”，是指可以**由数据自动决定权重参数的值**。\n",
    "#### 数据驱动\n",
    "数据是机器学习的命根子。\n",
    "#### 训练数据和测试数据\n",
    "机器学习中，一般将数据分为**训练数据(监督数据)**和**测试数据**两部分来进行学习和实验等。<br>\n",
    "首先，使用训练数据进行学习，寻找最优的参数；然后，使用测试数据评价训练得到的模型的实际能力。<br>\n",
    "为了正确评价模型的**泛化能力**，就必须划分训练数据和测试数据。泛化能力是指处理未被观察过的数据(不包含在训练数据中的数据)的能力。"
   ]
  },
  {
   "cell_type": "markdown",
   "metadata": {},
   "source": [
    "### 损失函数\n",
    "神经网络以某个指标为线索寻找最优权重参数。神经网络的学习中所用的指标称为**损失函数(loss function)**。损失函数可以使用任意函数，单一般用均方误差和交叉熵误差等。\n",
    "#### 均方误差\n",
    "均方误差(mean squared error)如下式所示。\n",
    "$$E = \\frac{1}{2}\\sum_{k}^{ }(y_k - t_k)^2$$\n",
    "这里，$y_k$表示神经网络的输出，$t_k$表示监督数据，k表示数据的维数。\n",
    "\n",
    "\n",
    "\n",
    "在手写数字识别的例子中，$y_k$、$t_k$是由如下10个元素构成的数据。"
   ]
  },
  {
   "cell_type": "code",
   "execution_count": 22,
   "metadata": {},
   "outputs": [],
   "source": [
    "y = [0.1, 0.05, 0.6, 0.0, 0.05, 0.1, 0.0, 0.1, 0.0, 0.0]\n",
    "t = [0, 0, 1, 0, 0, 0, 0, 0, 0, 0] # “2”为正确解"
   ]
  },
  {
   "cell_type": "markdown",
   "metadata": {},
   "source": [
    "这里，神经网络的输出y是softmax函数的输出。由于softmax函数的输出可以理解为概率，因此上例表示“0”的概率为0.1，“1”的概率是0.05，“2”的概率是0.6等。t是监督数据，将正确解标签设为1，其他设为0。这里，标签“2”位1，表示正确解是“2”。将正确解标签表示1，其他标签表示为0的表示方法称为**one-hot表示**。\n",
    "\n",
    "\n",
    "我们用Python来实现均方误差。"
   ]
  },
  {
   "cell_type": "code",
   "execution_count": 25,
   "metadata": {},
   "outputs": [],
   "source": [
    "import numpy as np\n",
    "\n",
    "def mean_squared_error(y, t): # 均方误差\n",
    "    return 0.5 * np.sum((y-t)**2)"
   ]
  },
  {
   "cell_type": "markdown",
   "metadata": {},
   "source": [
    "我们使用这个函数，来实际地计算一下。"
   ]
  },
  {
   "cell_type": "code",
   "execution_count": 31,
   "metadata": {},
   "outputs": [],
   "source": [
    "# 设\"2\"为正确解\n",
    "t = [0, 0, 1, 0, 0, 0, 0, 0, 0, 0]"
   ]
  },
  {
   "cell_type": "code",
   "execution_count": 32,
   "metadata": {},
   "outputs": [
    {
     "data": {
      "text/plain": [
       "0.09750000000000003"
      ]
     },
     "execution_count": 32,
     "metadata": {},
     "output_type": "execute_result"
    }
   ],
   "source": [
    "# 例1：\"2\"的概率最高的情况(0.6)\n",
    "y = [0.1, 0.05, 0.6, 0.0, 0.05, 0.1, 0.0, 0.1, 0.0, 0.0]\n",
    "mean_squared_error(np.array(y), np.array(t))"
   ]
  },
  {
   "cell_type": "code",
   "execution_count": 33,
   "metadata": {},
   "outputs": [
    {
     "data": {
      "text/plain": [
       "0.5975"
      ]
     },
     "execution_count": 33,
     "metadata": {},
     "output_type": "execute_result"
    }
   ],
   "source": [
    "# 例2：\"7\"的概率最高的情况(0.6)\n",
    "y = [0.1, 0.05, 0.1, 0.0, 0.05, 0.1, 0.0, 0.6, 0.0, 0.0]\n",
    "mean_squared_error(np.array(y), np.array(t))"
   ]
  },
  {
   "cell_type": "markdown",
   "metadata": {},
   "source": [
    "第一个例子中，正确解为“2”，神经网络输出的最大值（概率最大）是“2”；<br>\n",
    "第二个例子中，正确解为“2”，神经网络输出的最大值（概率最大）是“7”。<br>\n",
    "如实验结果所示，第一个例子的损失函数的值更小，和监督数据之间的误差较小。也就是说，均方误差显示第一个例子的输出结果与监督数据更加吻合。"
   ]
  },
  {
   "cell_type": "markdown",
   "metadata": {},
   "source": [
    "#### 交叉熵误差\n",
    "除了均方误差之外，**交叉熵误差(corss entropy error)**也经常被用作损失函数。交叉熵误差如下式所示。\n",
    "$$E = -\\sum_{k}^{ }t_klogy_k$$"
   ]
  },
  {
   "cell_type": "markdown",
   "metadata": {},
   "source": [
    "这里，log表示以e为底数的自然对数($log_e$)。$y_k$是神经网络的输出，$t_k$正确解标签。并且$t_k$中只有正确解标签的索引为1，其他均为0(one-hot表示)。因此，上式实际上只计算对应正确解标签的输出的自然对数。<br>\n",
    "比如，假设正确解标签的索引是“2”，与之对应的神经网络的输出是0.6，则交叉熵误差是$-log0.6=0.51$。<br>\n",
    "也就是说，**交叉熵误差的值是由正确解标签所对应的输出结果决定的**。"
   ]
  },
  {
   "cell_type": "code",
   "execution_count": 58,
   "metadata": {},
   "outputs": [
    {
     "data": {
      "image/png": "[encoded data removed]",
      "text/plain": [
       "<Figure size 432x288 with 1 Axes>"
      ]
     },
     "metadata": {
      "needs_background": "light"
     },
     "output_type": "display_data"
    }
   ],
   "source": [
    "# 自然对数 y = logx 的图像\n",
    "import matplotlib.pyplot as plt\n",
    "import numpy as np\n",
    "\n",
    "x = np.arange(0.001, 1.0, 0.01)\n",
    "y = np.log(x)\n",
    "\n",
    "plt.plot(x, y)\n",
    "plt.ylim(-5, 0)# y范围(-5,.)\n",
    "plt.xlim(0, 1) # x范围(0,1)\n",
    "plt.show()"
   ]
  },
  {
   "cell_type": "markdown",
   "metadata": {},
   "source": [
    "如图所示，x=1时，y=0；随着x向0靠近，y逐渐变小。因此，正确解标签对应的输出越大，交叉熵误差越接近0.\n",
    "\n",
    "\n",
    "下面，我们用代码来实现交叉熵误差。"
   ]
  },
  {
   "cell_type": "code",
   "execution_count": 75,
   "metadata": {},
   "outputs": [],
   "source": [
    "def cross_entropy_error(y, t):\n",
    "    delta = 1e-7 # 1e-7 为 1 * 10^-7，即0.0000001\n",
    "    return -np.sum(t * np.log(y + delta))"
   ]
  },
  {
   "cell_type": "markdown",
   "metadata": {},
   "source": [
    "这里，参数y和t是NumPy数组。函数内部在计算np.log时，加上了一个微小值delta。这是因为，当出现np.log(0)时，np.log(0)会变成负无限大的-inf，这样一来就会导致后续计算无法进行。作为保护性对策，添加一个微小值可以防止负无限大的发生。<br>\n",
    "\n",
    "下面，我们使用cross_entropy_error(y, t)来进行一些简单的计算。"
   ]
  },
  {
   "cell_type": "code",
   "execution_count": 77,
   "metadata": {},
   "outputs": [
    {
     "data": {
      "text/plain": [
       "0.510825457099338"
      ]
     },
     "execution_count": 77,
     "metadata": {},
     "output_type": "execute_result"
    }
   ],
   "source": [
    "t = [0, 0, 1, 0, 0, 0, 0, 0, 0, 0] # \"2\"为正确解\n",
    "y = [0.1, 0.05, 0.6, 0.0, 0.05, 0.1, 0.0, 0.1, 0.0, 0.0] # 正确解标签对应的输出是0.6\n",
    "cross_entropy_error(np.array(y), np.array(t))"
   ]
  },
  {
   "cell_type": "code",
   "execution_count": 78,
   "metadata": {},
   "outputs": [
    {
     "data": {
      "text/plain": [
       "2.302584092994546"
      ]
     },
     "execution_count": 78,
     "metadata": {},
     "output_type": "execute_result"
    }
   ],
   "source": [
    "y = [0.1, 0.05, 0.1, 0.0, 0.05, 0.1, 0.0, 0.6, 0.0, 0.0] # 正确解标签对应的输出是0.1\n",
    "cross_entropy_error(np.array(y), np.array(t))"
   ]
  },
  {
   "cell_type": "markdown",
   "metadata": {},
   "source": [
    "在第一个例子中，正确解标签对应的输出（概率）是0.6，此时交叉熵误差大约为0.51。<br>\n",
    "在第二个例子中，正确解标签对应的输出（概率）为0.1，此时交叉熵误差大约为2.3。<br>"
   ]
  },
  {
   "cell_type": "markdown",
   "metadata": {},
   "source": [
    "#### mini-batch学习\n",
    "机器学习使用训练数据进行学习。严格的说，就是针对训练数据计算损失函数的值，找出使该值尽可能小的参数。<br>\n",
    "因此，计算损失函数时必须将所有的训练数据作为对象。也就是说，如果训练数据由100个的话，我们就要把这100个损失函数的总和作为学习的指标。\n",
    "前面介绍的损失函数的例子中考虑的都是针对单个数据的损失函数。如果要求所有训练数据的损失函数的总和，以交叉熵误差为例，可以写成下面的式子。<br>\n",
    "$$\n",
    "E = -\\frac{1}{N} \\sum_{n}^{ } \\sum_ {k}^{ } t_{nk} log_{nk}\n",
    "$$\n",
    "这里，假设数据有 N 个，$t_{nk}$ 表示第 n 个数据的第 k 个元素的值($y_{nk}$是神经网络的输出，$t_{nk}$是监督数据)，最后除以N进行正规化，可以求单个数据的“平均损失函数”。\n",
    "\n",
    "\n",
    "如果遇到大数据，数据量会有几百万、几千万之多，这种情况下以全部数据为对象计算损失函数是不现实的。因此，我们从全部数据中选出一部分，作为全部数据的“近似”。神经网络的学习也是从训练数据中选出一批数据(称为mini-batch，小批量)，然后对每个mini-batch进行学习。比如，从60000个训练数据中随机选择100笔，再用着100笔数据进行学习。这种方式称为**mini-batch学习**。\n",
    "\n",
    "\n",
    "下面来编写从训练数据中随机选择指定个数的数据的代码，以进行mini-batch学习。在这之间，先来看一下用于读入MNIST数据集的代码。"
   ]
  },
  {
   "cell_type": "code",
   "execution_count": 9,
   "metadata": {},
   "outputs": [
    {
     "name": "stdout",
     "output_type": "stream",
     "text": [
      "(60000, 784)\n",
      "(60000, 10)\n"
     ]
    }
   ],
   "source": [
    "import sys, os\n",
    "sys.path.append(os.pardir)\n",
    "import numpy as np\n",
    "from dataset.mnist import load_mnist\n",
    "\n",
    "(x_train, t_train), (x_test, t_test) = load_mnist(normalize=True, one_hot_label=True)\n",
    "\n",
    "print(x_train.shape) # (60000,784)\n",
    "print(t_train.shape) # (60000,10)"
   ]
  },
  {
   "cell_type": "markdown",
   "metadata": {},
   "source": [
    "之前介绍过，load_mnist 函数是用于读入 MNIST 数据集的函数，它会读入训练数据和测试数据。读入数据时，通过设定 one_host_label=True，可以得到 one-hot 表示(即仅正确解标签为1，其余为0的数据结构)。<br>\n",
    "读入上面的 MNIST 数据后，训练数据有60000个，输入数据是784维(28x28)的图像数据，监督数据是10维的数据。因此上面的 x_train、t_train 的形状分别是(60000, 784)和(60000, 10)<br>\n",
    "\n",
    "\n",
    "那么如何从这个训练数据中随机抽取10笔数据呢？可以使用 NumPy 的 np.random.choice()。\n"
   ]
  },
  {
   "cell_type": "code",
   "execution_count": 23,
   "metadata": {},
   "outputs": [
    {
     "data": {
      "text/plain": [
       "array([49155, 42364, 30504,  7265,  3586, 26023, 50966, 58737, 25345,\n",
       "       41773])"
      ]
     },
     "execution_count": 23,
     "metadata": {},
     "output_type": "execute_result"
    }
   ],
   "source": [
    "# 使用 np.random.choice() 可以从指定的数字中随机选择想要的数字。\n",
    "np.random.choice(60000, 10) # 从0到59999之间随机选择10个数字"
   ]
  },
  {
   "cell_type": "markdown",
   "metadata": {},
   "source": [
    "我们只需指定这些随机选出的索引，取出 mini-batch，然后使用这个 mini-batch 计算损失函数即可。"
   ]
  },
  {
   "cell_type": "code",
   "execution_count": 44,
   "metadata": {},
   "outputs": [],
   "source": [
    "train_size = x_train.shape[0] # 训练数据的总数，60000\n",
    "batch_size = 10 # 批数量，这里取10个\n",
    "batch_mask = np.random.choice(train_size, batch_size) # 从训练数据的总数中，随机取出 batch_size（这里为10） 个数据的索引\n",
    "x_batch = x_train[batch_mask] # 取出的10个训练数据\n",
    "t_batch = t_train[batch_mask] # 训练数据对应的测试数据"
   ]
  },
  {
   "cell_type": "markdown",
   "metadata": {},
   "source": [
    "mini-batch 的损失函数是利用一部分样本数据来近似地计算整体。也就是说，用随机选择的小批量数据(mini-batch)作为全体训练数据的近似值。"
   ]
  },
  {
   "cell_type": "markdown",
   "metadata": {},
   "source": [
    "#### mini-batch 版交叉熵误差的实现\n",
    "这里，我们实现一个可以同时处理单个数据和批量数据(数据作为batch集中输入)两种情况的函数。"
   ]
  },
  {
   "cell_type": "code",
   "execution_count": 47,
   "metadata": {},
   "outputs": [],
   "source": [
    "def cross_entropy_error(y, t): # y是神经网络的输出，t是监督数据\n",
    "    if y.ndim == 1:  # y的维度为1时，即求单个数据的交叉熵误差时，需要改变数据的形状\n",
    "        t = t.reshape(1, t.size)\n",
    "        y = y.reshape(1, y.size)\n",
    "    \n",
    "    batch_size = y.shape[0] # 批数量\n",
    "    return -np.sum(t * np.log(y + 1e-7)) / batch_size"
   ]
  },
  {
   "cell_type": "markdown",
   "metadata": {},
   "source": [
    "这里，y是神经网络的输出，t是监督数据。y的维度为1时，即求单个数据的交叉熵误差时，需要改变数据的形状。并且，当输入为mini-batch时，要用batch的个数进行正规化，计算单个数据的平均交叉熵误差。\n",
    "\n",
    "\n",
    "此外，当监督数据是标签形式(非one-hot表示，而是像 “2”、“7” 这样的标签)时，交叉熵误差可通过如下代码实现。"
   ]
  },
  {
   "cell_type": "code",
   "execution_count": 49,
   "metadata": {},
   "outputs": [],
   "source": [
    "def cross_entropy_error(y, t):\n",
    "    if y.ndim == 1:\n",
    "        t = t.reshape(1, t.size)\n",
    "        y = y.reshape(1, y.size)\n",
    "    \n",
    "    batch_zie = y.shape[0]\n",
    "    return -np.sum(np.log(y[np.arange(batch_size),t] + 1e-7)) / batch_size # 这一行要仔细理解"
   ]
  },
  {
   "cell_type": "markdown",
   "metadata": {},
   "source": [
    "由于 one-hot 表示中 t 为0的元素的交叉熵误差也为0，因此针对这些元素的计算可以忽略。换言之，如果可以获得神经网络在正确解标签处的输出，就可以计算交叉熵误差。因此，t 为 one-hot 表示时通过 t * np.log(y) 计算的地方，再 t 为标签形式时，可用 np.log( y[np.arange(batch_zie), t] ) 实现相同的处理（为了便于观察，这里省略了微小值 1e-7）。<br>\n",
    "\n",
    "简单介绍一下 np.log( y[np.arange(batch_size), t] )。np.arange(batch_size) 会生成一个从0到 batch_size-1 的数组。比如当 batch_size 为5时，np.arange(batch_size)会生成一个 Numpy 数组[0, 1, 2, 3, 4]。因为 t 中标签是以[2, 7, 0, 9, 4]的形式存储的，所以 y[np.arange(batch_size), t] 能抽取出各个数据的正确解标签对应的神经网络的输出。在这个例子中，y[np.arange(batch_size), t] 会生成 NumPy 数组 [ y[0,2], y[1,7], y[2,0], y[3,9], y[4,4] ]。"
   ]
  },
  {
   "cell_type": "code",
   "execution_count": 61,
   "metadata": {},
   "outputs": [
    {
     "ename": "SyntaxError",
     "evalue": "invalid syntax (<ipython-input-61-67ec01f055e9>, line 5)",
     "output_type": "error",
     "traceback": [
      "\u001b[1;36m  File \u001b[1;32m\"<ipython-input-61-67ec01f055e9>\"\u001b[1;36m, line \u001b[1;32m5\u001b[0m\n\u001b[1;33m    [4,4,...]])\u001b[0m\n\u001b[1;37m              ^\u001b[0m\n\u001b[1;31mSyntaxError\u001b[0m\u001b[1;31m:\u001b[0m invalid syntax\n"
     ]
    }
   ],
   "source": [
    "y = np.array([[0,2,...,\n",
    "         [1,7,...],\n",
    "         [2,0,...],\n",
    "         [3,9,...],\n",
    "         [4,4,...]])"
   ]
  },
  {
   "cell_type": "markdown",
   "metadata": {},
   "source": [
    "#### 为什么要设定损失函数\n",
    "在进行神经网络的学习时，不能将识别精度作为指标。因为如果以识别精度为指标，则参数的导数在绝大多数地方都会变成。"
   ]
  },
  {
   "cell_type": "code",
   "execution_count": null,
   "metadata": {},
   "outputs": [],
   "source": []
  }
 ],
 "metadata": {
  "kernelspec": {
   "display_name": "Python 3",
   "language": "python",
   "name": "python3"
  },
  "language_info": {
   "codemirror_mode": {
    "name": "ipython",
    "version": 3
   },
   "file_extension": ".py",
   "mimetype": "text/x-python",
   "name": "python",
   "nbconvert_exporter": "python",
   "pygments_lexer": "ipython3",
   "version": "3.7.4"
  }
 },
 "nbformat": 4,
 "nbformat_minor": 2
}
